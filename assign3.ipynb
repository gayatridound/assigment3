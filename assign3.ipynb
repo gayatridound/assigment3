{
 "cells": [
  {
   "cell_type": "markdown",
   "id": "930f3aaf-114e-4948-b25e-188dee741b1c",
   "metadata": {},
   "source": [
    "Q1. which keyword is used to create a function ?create a function tomreturn a list of odd numbers in the range of 1 to 25.\n"
   ]
  },
  {
   "cell_type": "code",
   "execution_count": null,
   "id": "1f635551-2d29-40b7-959c-3c14c8b1af21",
   "metadata": {},
   "outputs": [],
   "source": [
    "df is keyword it used to create a function "
   ]
  },
  {
   "cell_type": "code",
   "execution_count": 1,
   "id": "34f99acd-486d-4cb0-b938-77984d5c420b",
   "metadata": {},
   "outputs": [],
   "source": [
    "l=[1,2,3,4,5,6,7,8,9,10,11,12,13,14,15,16,17,18,19,20,21,22 ,23,24,25]"
   ]
  },
  {
   "cell_type": "code",
   "execution_count": 8,
   "id": "4ed017cf-e175-4305-a4fb-6db760704110",
   "metadata": {},
   "outputs": [],
   "source": [
    "def test(l) :\n",
    "    for i in l:\n",
    "        if i % 2 != 0 :\n",
    "            print(i)"
   ]
  },
  {
   "cell_type": "markdown",
   "id": "00b77bd8-f763-48cd-adf6-579531499950",
   "metadata": {},
   "source": [
    "test(l)"
   ]
  },
  {
   "cell_type": "markdown",
   "id": "b3f68ee9-20c5-42a8-94b6-296728275fd5",
   "metadata": {},
   "source": [
    "Q2. why*args and **kwargs is used in some functions? ceate a function each for *arges and **kwarges to demostrate their use."
   ]
  },
  {
   "cell_type": "markdown",
   "id": "8c75fa2f-4539-4542-8bad-9569eace0561",
   "metadata": {},
   "source": [
    "i)*args are used to take multiple input in function .it print the input in tuple formate.\n",
    "ii)**kwargs it also take multiple input in function  bt it tanke key value foramte .and it will print it dictionary foramte."
   ]
  },
  {
   "cell_type": "code",
   "execution_count": 13,
   "id": "c754f0ea-238d-4d75-ba4a-cf54b0c770af",
   "metadata": {},
   "outputs": [],
   "source": [
    "def test(*awrgs):\n",
    "   return awrgs"
   ]
  },
  {
   "cell_type": "code",
   "execution_count": 14,
   "id": "72e26337-7a8a-40ec-8a6b-638a011e186a",
   "metadata": {},
   "outputs": [
    {
     "data": {
      "text/plain": [
       "(1, 2, 5, 6, 7, 8)"
      ]
     },
     "execution_count": 14,
     "metadata": {},
     "output_type": "execute_result"
    }
   ],
   "source": [
    "test(1,2,5,6,7,8)"
   ]
  },
  {
   "cell_type": "code",
   "execution_count": 15,
   "id": "bf27f637-4804-4062-9d8e-dab475b977ef",
   "metadata": {},
   "outputs": [],
   "source": [
    "def test1(**kwargs):\n",
    "    return kwargs"
   ]
  },
  {
   "cell_type": "code",
   "execution_count": 17,
   "id": "093a52a3-15ae-4c6a-9cdf-2f7bd3e57a6e",
   "metadata": {},
   "outputs": [
    {
     "data": {
      "text/plain": [
       "{'a': [1, 2, 3, 4], 'b': 'gayatri'}"
      ]
     },
     "execution_count": 17,
     "metadata": {},
     "output_type": "execute_result"
    }
   ],
   "source": [
    "test1(a=[1,2,3,4],b=\"gayatri\")\n"
   ]
  },
  {
   "cell_type": "markdown",
   "id": "fa89a814-d5ba-4aa7-95cf-3841f10fa82f",
   "metadata": {},
   "source": [
    "Q3.what is a genrator function in python ? why yield keyword is used ? Given an example of a genrator function."
   ]
  },
  {
   "cell_type": "markdown",
   "id": "365d8fcc-b756-48ad-8fab-7a6ed25b2017",
   "metadata": {},
   "source": [
    "yield keyword is used to create a generator function. A type of function that is memory efficient and can be used like an iterator object. In layman terms, the yield keyword will turn any expression that is given with it into a generator object and return it to the caller."
   ]
  },
  {
   "cell_type": "code",
   "execution_count": 18,
   "id": "f305612f-504e-46b4-bc3c-40f048249898",
   "metadata": {},
   "outputs": [],
   "source": [
    "def test2(n):\n",
    "    a,b=0,1\n",
    "    for i in range(n):\n",
    "        yield a\n",
    "        a,b=b,a+b"
   ]
  },
  {
   "cell_type": "code",
   "execution_count": 22,
   "id": "8c332b95-57f9-4a7e-aa26-33b3e4e2eef8",
   "metadata": {},
   "outputs": [
    {
     "name": "stdout",
     "output_type": "stream",
     "text": [
      "0\n",
      "1\n",
      "1\n",
      "2\n",
      "3\n",
      "5\n",
      "8\n",
      "13\n",
      "21\n",
      "34\n"
     ]
    }
   ],
   "source": [
    "for i in test2(10) :\n",
    " print(i)"
   ]
  },
  {
   "cell_type": "markdown",
   "id": "62bffc32-53bf-4232-ae2f-88fd93397e89",
   "metadata": {},
   "source": [
    "Q4. what is an iterator in python? Name methode used intialise the iterator object and themethode used for iteration.use these methode to print thie five element of the given list [2,4,6,8,10,12,14,16, 18 20]."
   ]
  },
  {
   "cell_type": "markdown",
   "id": "60f9136e-d6ea-47be-92a1-211436d90282",
   "metadata": {},
   "source": [
    "an iterator is an object that allows you to loop through a collection of items, such as a list, tuple, or any other iterable, one at a time. It provides a way to access elements sequentially without needing to know the underlying data structure.\n",
    "To initialize an iterator object, you can use the iter() function, and to iterate through the elements, you can use the next() function"
   ]
  },
  {
   "cell_type": "code",
   "execution_count": 2,
   "id": "cf3987ed-320e-4eb3-9274-b6e1d97303f3",
   "metadata": {},
   "outputs": [
    {
     "name": "stdout",
     "output_type": "stream",
     "text": [
      "2\n",
      "4\n",
      "6\n",
      "8\n",
      "10\n"
     ]
    }
   ],
   "source": [
    "list = [2, 4, 6, 8, 10, 12, 14, 16, 18, 20]\n",
    "iterator = iter(list)\n",
    "for _ in range(5):\n",
    "    element = next(iterator)\n",
    "    print(element)\n"
   ]
  },
  {
   "cell_type": "markdown",
   "id": "3e679d37-eb8b-476a-b668-454065f12a03",
   "metadata": {},
   "source": [
    "Q5. create a generator function for prime numbers less than 1000.use the next () methode to print the first 20 prime numbers."
   ]
  },
  {
   "cell_type": "code",
   "execution_count": null,
   "id": "648e0cb7-e0bd-412b-a769-85796de48ba7",
   "metadata": {},
   "outputs": [],
   "source": [
    "def is_prime(num):\n",
    "    if num <= 1:\n",
    "        return False\n",
    "    if num <= 3:\n",
    "        return True\n",
    "    if num % 2 == 0 or num % 3 == 0:\n",
    "        return False\n",
    "    i = 5\n",
    "    while i * i <= num:\n",
    "        if num % i == 0 or num % (i + 2) == 0:\n",
    "            return False\n",
    "        i += 6\n",
    "    return True\n",
    "\n",
    "def prime_generator(limit):\n",
    "    num = 2\n",
    "    while num < limit:\n",
    "        if is_prime(num):\n",
    "            yield num\n",
    "        num += 1\n",
    "\n",
    "# Generate and print prime numbers less than 1000\n",
    "for prime in prime_generator(1000):\n",
    "    print(prime)\n"
   ]
  },
  {
   "cell_type": "code",
   "execution_count": 19,
   "id": "5059e208-981f-4f47-a967-01baaad3036c",
   "metadata": {},
   "outputs": [
    {
     "name": "stdout",
     "output_type": "stream",
     "text": [
      "2\n",
      "3\n",
      "5\n",
      "7\n",
      "11\n",
      "13\n",
      "17\n",
      "19\n",
      "23\n",
      "29\n",
      "31\n",
      "37\n",
      "41\n",
      "43\n",
      "47\n",
      "53\n",
      "59\n",
      "61\n",
      "67\n",
      "71\n"
     ]
    }
   ],
   "source": [
    "prime_gen = prime_generator(1000)\n",
    "for _ in range(20):\n",
    "    prime = next(prime_gen)\n",
    "    print(prime)"
   ]
  },
  {
   "cell_type": "markdown",
   "id": "775018cd-91a0-467f-8132-0426d82463b0",
   "metadata": {},
   "source": [
    "Q6 write a python program to print the first 10 fibnacci numbers using a while loop"
   ]
  },
  {
   "cell_type": "code",
   "execution_count": 2,
   "id": "1550768d-f654-4778-b945-2d5a9f65a6c4",
   "metadata": {},
   "outputs": [
    {
     "name": "stdout",
     "output_type": "stream",
     "text": [
      "0\n",
      "1\n",
      "1\n",
      "2\n",
      "3\n",
      "5\n",
      "8\n",
      "13\n",
      "21\n",
      "34\n"
     ]
    }
   ],
   "source": [
    "fibonacci = [0, 1]\n",
    "while len(fibonacci) < 10:\n",
    "    next_fib = fibonacci[-1] + fibonacci[-2]\n",
    "    fibonacci.append(next_fib)\n",
    "\n",
    "# Print the first 10 Fibonacci numbers\n",
    "for num in fibonacci:\n",
    "    print(num)\n"
   ]
  },
  {
   "cell_type": "markdown",
   "id": "3333f2b4-8ff0-4aa4-b5d5-b4f692c219d4",
   "metadata": {},
   "source": [
    "Q7.write a list comperhension to iterate through the given string:'pwskills'.\n",
    "expected output :['p','w','s','k','i','l','s']"
   ]
  },
  {
   "cell_type": "code",
   "execution_count": 1,
   "id": "e658f61e-d276-465a-aeaf-7eabaebfec9a",
   "metadata": {},
   "outputs": [
    {
     "data": {
      "text/plain": [
       "['P', 'W', 'S', 'K', 'I', 'L', 'L', 'S']"
      ]
     },
     "execution_count": 1,
     "metadata": {},
     "output_type": "execute_result"
    }
   ],
   "source": [
    "s=\"pwskills\"\n",
    "list(map(lambda s:s.upper(),s))"
   ]
  },
  {
   "cell_type": "markdown",
   "id": "12e93b57-d704-44da-bffa-ea767d94917a",
   "metadata": {},
   "source": [
    "Q8. write a python program to check whether a given number is palindrome or not using while loop."
   ]
  },
  {
   "cell_type": "code",
   "execution_count": 2,
   "id": "24eae80b-4443-4a63-a8f9-37a3129f6e7a",
   "metadata": {},
   "outputs": [
    {
     "name": "stdin",
     "output_type": "stream",
     "text": [
      "Enter a number:  121\n"
     ]
    },
    {
     "name": "stdout",
     "output_type": "stream",
     "text": [
      "121 is a palindrome.\n"
     ]
    }
   ],
   "source": [
    "def is_palindrome(number):\n",
    "    original_number = number\n",
    "    reversed_number = 0\n",
    "    \n",
    "    while number > 0:\n",
    "        digit = number % 10\n",
    "        reversed_number = reversed_number * 10 + digit\n",
    "        number //= 10\n",
    "    \n",
    "    if original_number == reversed_number:\n",
    "        return True\n",
    "    else:\n",
    "        return False\n",
    "num = int(input(\"Enter a number: \"))\n",
    "\n",
    "if is_palindrome(num):\n",
    "    print(num, \"is a palindrome.\")\n",
    "else:\n",
    "    print(num, \"is not a palindrome.\")\n"
   ]
  },
  {
   "cell_type": "markdown",
   "id": "ed54a796-9421-4d08-92e7-2ad58308576a",
   "metadata": {},
   "source": [
    "Q9. write a code to print odd numbers from 1 to 100 using list comprehension."
   ]
  },
  {
   "cell_type": "code",
   "execution_count": 3,
   "id": "c1396c1b-05b8-4495-a45c-c161c5f6b722",
   "metadata": {},
   "outputs": [
    {
     "name": "stdout",
     "output_type": "stream",
     "text": [
      "[1, 3, 5, 7, 9, 11, 13, 15, 17, 19, 21, 23, 25, 27, 29, 31, 33, 35, 37, 39, 41, 43, 45, 47, 49, 51, 53, 55, 57, 59, 61, 63, 65, 67, 69, 71, 73, 75, 77, 79, 81, 83, 85, 87, 89, 91, 93, 95, 97, 99]\n"
     ]
    }
   ],
   "source": [
    "odd_numbers = [num for num in range(1, 101) if num % 2 != 0]\n",
    "\n",
    "print(odd_numbers)"
   ]
  },
  {
   "cell_type": "code",
   "execution_count": null,
   "id": "35f7ea9d-4c6f-49e9-a1cd-e82f0e041757",
   "metadata": {},
   "outputs": [],
   "source": []
  },
  {
   "cell_type": "code",
   "execution_count": null,
   "id": "e5db9a42-5b7f-480d-9632-d854bc126dcd",
   "metadata": {},
   "outputs": [],
   "source": []
  },
  {
   "cell_type": "code",
   "execution_count": null,
   "id": "f7421092-e423-45dd-9992-b6984a23e1bd",
   "metadata": {},
   "outputs": [],
   "source": []
  },
  {
   "cell_type": "code",
   "execution_count": null,
   "id": "b038c57f-7b87-4622-b689-d9836480e143",
   "metadata": {},
   "outputs": [],
   "source": []
  },
  {
   "cell_type": "code",
   "execution_count": null,
   "id": "2a6ea844-f91c-459b-9d6d-e91fa60380ab",
   "metadata": {},
   "outputs": [],
   "source": []
  },
  {
   "cell_type": "code",
   "execution_count": null,
   "id": "f5f43fb9-0cb0-4f1c-82c5-e3268dad826a",
   "metadata": {},
   "outputs": [],
   "source": []
  },
  {
   "cell_type": "code",
   "execution_count": null,
   "id": "3ce2a7e2-26dd-4af0-89cf-0658ae6f6df1",
   "metadata": {},
   "outputs": [],
   "source": []
  },
  {
   "cell_type": "code",
   "execution_count": null,
   "id": "80edca4f-4731-4d12-9e53-19f1a0343cc4",
   "metadata": {},
   "outputs": [],
   "source": []
  },
  {
   "cell_type": "code",
   "execution_count": null,
   "id": "de3494e5-ec13-4e17-a269-1523b4585107",
   "metadata": {},
   "outputs": [],
   "source": []
  },
  {
   "cell_type": "code",
   "execution_count": null,
   "id": "5740da95-3c6e-40a6-b69a-c6b10ef84204",
   "metadata": {},
   "outputs": [],
   "source": []
  },
  {
   "cell_type": "code",
   "execution_count": null,
   "id": "05b05293-9217-40bf-9d54-817389724915",
   "metadata": {},
   "outputs": [],
   "source": []
  },
  {
   "cell_type": "code",
   "execution_count": null,
   "id": "3906c201-6bb7-42e4-b491-02fc9e20ae63",
   "metadata": {},
   "outputs": [],
   "source": []
  },
  {
   "cell_type": "code",
   "execution_count": null,
   "id": "3fa80c88-aa51-426f-8870-5b717066efd6",
   "metadata": {},
   "outputs": [],
   "source": []
  },
  {
   "cell_type": "code",
   "execution_count": null,
   "id": "ad478cc7-7fbe-4c93-88d4-5b86adccfe20",
   "metadata": {},
   "outputs": [],
   "source": []
  }
 ],
 "metadata": {
  "kernelspec": {
   "display_name": "Python 3 (ipykernel)",
   "language": "python",
   "name": "python3"
  },
  "language_info": {
   "codemirror_mode": {
    "name": "ipython",
    "version": 3
   },
   "file_extension": ".py",
   "mimetype": "text/x-python",
   "name": "python",
   "nbconvert_exporter": "python",
   "pygments_lexer": "ipython3",
   "version": "3.10.8"
  }
 },
 "nbformat": 4,
 "nbformat_minor": 5
}
